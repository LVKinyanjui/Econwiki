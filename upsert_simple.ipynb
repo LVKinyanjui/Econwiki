{
 "cells": [
  {
   "cell_type": "code",
   "execution_count": null,
   "metadata": {},
   "outputs": [],
   "source": [
    "from custom.pinecone_ops import pinecone_upsert\n",
    "from custom.gemini_async import async_embed\n",
    "\n",
    "from langchain.text_splitter import RecursiveCharacterTextSplitter"
   ]
  },
  {
   "cell_type": "code",
   "execution_count": null,
   "id": "01J0Y3JVWNSJGED01J5KTKCDMV",
   "metadata": {},
   "outputs": [],
   "source": [
    "NAMESPACE = 'world_bank'"
   ]
  },
  {
   "cell_type": "code",
   "execution_count": null,
   "id": "01J0Y3M609SWN064DM3XHS5H36",
   "metadata": {},
   "outputs": [],
   "source": [
    "with open('data/world_bank_articles.txt', encoding='utf-8') as f:\n",
    "    texts = f.read()"
   ]
  },
  {
   "cell_type": "code",
   "execution_count": null,
   "id": "01J0Y3M60AWY6YW9Q3NRHWDAXM",
   "metadata": {},
   "outputs": [],
   "source": [
    "separator = \"-\" * 150                  # Defined earlier during webscraping\n",
    "\n",
    "# Necessary to limit the payload to and avoid a\n",
    "# 400: 'Request payload size exceeds the limit: 10000 bytes.'\n",
    "\n",
    "text_splitter = RecursiveCharacterTextSplitter(separators=[separator, \"\\n\\n\\n\", \"\\n\\n\", \"\\n\"], \n",
    "                                               chunk_size=7000,         # Empirically set from the output of CharacterTextSplitter\n",
    "                                               chunk_overlap=0)\n",
    "docs = text_splitter.split_text(texts)\n",
    "len(docs)"
   ]
  },
  {
   "cell_type": "markdown",
   "metadata": {},
   "source": [
    "### Embed"
   ]
  },
  {
   "cell_type": "code",
   "execution_count": null,
   "id": "01J0Y4D469GD7Y9JE1K0JJXZXB",
   "metadata": {},
   "outputs": [],
   "source": [
    "results = await async_embed(docs)"
   ]
  },
  {
   "cell_type": "markdown",
   "metadata": {},
   "source": [
    "### Pinecone Init"
   ]
  },
  {
   "cell_type": "code",
   "execution_count": null,
   "id": "01J0Y4B461NTP1FHJBY41RAT1F",
   "metadata": {},
   "outputs": [],
   "source": [
    "from pinecone import Pinecone\n",
    "import os"
   ]
  },
  {
   "cell_type": "code",
   "execution_count": null,
   "id": "01J0Y49RDS642PHABJARRNAM9R",
   "metadata": {},
   "outputs": [],
   "source": [
    "pc = Pinecone(api_key=os.getenv('PINECONE_API_KEY'), environment='gcp-starter')\n",
    "\n",
    "# Pick an index at random\n",
    "index_ = pc.list_indexes()[0]\n",
    "index = pc.Index(index_['name'])\n",
    "\n",
    "# Check whether index matches our embedding dimension\n",
    "dim_a = index_['dimension']\n",
    "dim_b = len(results[0]['embeddings']['embedding']['values'])       # Pick any random embedding vector in our results\n",
    "\n",
    "if dim_a != dim_b:\n",
    "    raise Exception(f\"Pinecone Index dimension: {dim_a} does not match Vector Embedding dimension {dim_b}\")\n",
    "\n",
    "# Delete namespace if found\n",
    "# Will be created anew when we upsert to it. Avoids duplication\n",
    "if NAMESPACE in index.describe_index_stats()['namespaces'].keys():\n",
    "    index.delete(delete_all=True, namespace=NAMESPACE)\n",
    "    index.describe_index_stats()"
   ]
  },
  {
   "cell_type": "markdown",
   "metadata": {},
   "source": [
    "### Upsert "
   ]
  },
  {
   "cell_type": "code",
   "execution_count": null,
   "id": "01J0Y3NECY1ZXR77F5410JHVJK",
   "metadata": {},
   "outputs": [],
   "source": [
    "# Upserting all texts\n",
    "pinecone_upsert([result['embeddings']['embedding']['values'] for result in results],\n",
    "                [result['text_metadata'] for result in results],\n",
    "                index_['name'], \n",
    "                NAMESPACE) "
   ]
  },
  {
   "cell_type": "code",
   "execution_count": null,
   "id": "01J0Y556DAH3HGW5T81ZP7BP5C",
   "metadata": {},
   "outputs": [],
   "source": []
  }
 ],
 "metadata": {
  "kernelspec": {
   "display_name": "Python 3",
   "language": "python",
   "name": "python3"
  },
  "language_info": {
   "codemirror_mode": {
    "name": "ipython",
    "version": 3
   },
   "file_extension": ".py",
   "mimetype": "text/x-python",
   "name": "python",
   "nbconvert_exporter": "python",
   "pygments_lexer": "ipython3",
   "version": "3.10.4"
  }
 },
 "nbformat": 4,
 "nbformat_minor": 2
}
