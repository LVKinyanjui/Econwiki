{
 "cells": [
  {
   "cell_type": "code",
   "execution_count": 1,
   "metadata": {},
   "outputs": [],
   "source": [
    "from custom.pinecone_ops import pinecone_upsert\n",
    "from custom.gemini_async import async_embed\n",
    "\n",
    "from langchain.text_splitter import RecursiveCharacterTextSplitter"
   ]
  },
  {
   "cell_type": "code",
   "execution_count": 2,
   "id": "01J0Y3JVWNSJGED01J5KTKCDMV",
   "metadata": {},
   "outputs": [],
   "source": [
    "NAMESPACE = 'world_bank'"
   ]
  },
  {
   "cell_type": "code",
   "execution_count": 3,
   "id": "01J0Y3M609SWN064DM3XHS5H36",
   "metadata": {},
   "outputs": [],
   "source": [
    "with open('data/world_bank_articles.txt', encoding='utf-8') as f:\n",
    "    texts = f.read()"
   ]
  },
  {
   "cell_type": "code",
   "execution_count": 4,
   "id": "01J0Y3M60AWY6YW9Q3NRHWDAXM",
   "metadata": {},
   "outputs": [
    {
     "data": {
      "text/plain": [
       "1982"
      ]
     },
     "execution_count": 4,
     "metadata": {},
     "output_type": "execute_result"
    }
   ],
   "source": [
    "separator = \"-\" * 150                  # Defined earlier during webscraping\n",
    "\n",
    "# Necessary to limit the payload to and avoid a\n",
    "# 400: 'Request payload size exceeds the limit: 10000 bytes.'\n",
    "\n",
    "text_splitter = RecursiveCharacterTextSplitter(separators=[separator, \"\\n\\n\\n\", \"\\n\\n\", \"\\n\"], \n",
    "                                               chunk_size=7000,         # Empirically set from the output of CharacterTextSplitter\n",
    "                                               chunk_overlap=0)\n",
    "docs = text_splitter.split_text(texts)\n",
    "len(docs)"
   ]
  },
  {
   "cell_type": "markdown",
   "metadata": {},
   "source": [
    "### Embed"
   ]
  },
  {
   "cell_type": "code",
   "execution_count": 5,
   "id": "01J0Y4D469GD7Y9JE1K0JJXZXB",
   "metadata": {},
   "outputs": [],
   "source": [
    "results = await async_embed(docs)"
   ]
  },
  {
   "cell_type": "markdown",
   "metadata": {},
   "source": [
    "### Pinecone Init"
   ]
  },
  {
   "cell_type": "code",
   "execution_count": 6,
   "id": "01J0Y4B461NTP1FHJBY41RAT1F",
   "metadata": {},
   "outputs": [],
   "source": [
    "from pinecone import Pinecone\n",
    "import os"
   ]
  },
  {
   "cell_type": "code",
   "execution_count": 7,
   "id": "01J0Y49RDS642PHABJARRNAM9R",
   "metadata": {},
   "outputs": [],
   "source": [
    "pc = Pinecone(api_key=os.getenv('PINECONE_API_KEY'), environment='gcp-starter')\n",
    "\n",
    "# Pick an index at random\n",
    "index_ = pc.list_indexes()[0]\n",
    "index = pc.Index(index_['name'])\n",
    "\n",
    "# Check whether index matches our embedding dimension\n",
    "dim_a = index_['dimension']\n",
    "dim_b = len(results[0]['embeddings']['embedding']['values'])       # Pick any random embedding vector in our results\n",
    "\n",
    "if dim_a != dim_b:\n",
    "    raise Exception(f\"Pinecone Index dimension: {dim_a} does not match Vector Embedding dimension {dim_b}\")\n",
    "\n",
    "# Delete namespace if found\n",
    "# Will be created anew when we upsert to it. Avoids duplication\n",
    "if NAMESPACE in index.describe_index_stats()['namespaces'].keys():\n",
    "    index.delete(delete_all=True, namespace=NAMESPACE)\n",
    "    index.describe_index_stats()"
   ]
  },
  {
   "cell_type": "code",
   "execution_count": 8,
   "id": "01J0ZR4R01WTX6RRR4Y28SMZZ7",
   "metadata": {},
   "outputs": [
    {
     "name": "stdout",
     "output_type": "stream",
     "text": [
      "The following vectors were processed: (1614, 1614)\n"
     ]
    }
   ],
   "source": [
    "vectors = []\n",
    "text_metadata = []\n",
    "skipped = int()\n",
    "for result in results:\n",
    "    try:\n",
    "        vectors.append(result['embeddings']['embedding']['values'])\n",
    "        text_metadata.append(result['text_metadata'])\n",
    "    except:\n",
    "        skipped += 1\n",
    "        \n",
    "print(f\"The following vectors were processed: {len(vectors), len(text_metadata)}\")\n",
    "print(f\"The following vectors were skipped: {skipped}\")"
   ]
  },
  {
   "cell_type": "markdown",
   "metadata": {},
   "source": [
    "### Upsert "
   ]
  },
  {
   "cell_type": "code",
   "execution_count": 10,
   "id": "01J0Y3NECY1ZXR77F5410JHVJK",
   "metadata": {},
   "outputs": [
    {
     "data": {
      "text/plain": [
       "[<multiprocessing.pool.ApplyResult at 0x2828ef77010>,\n",
       " <multiprocessing.pool.ApplyResult at 0x2828ef75a50>,\n",
       " <multiprocessing.pool.ApplyResult at 0x2828eefcb20>,\n",
       " <multiprocessing.pool.ApplyResult at 0x2828ecf15a0>,\n",
       " <multiprocessing.pool.ApplyResult at 0x2828ecf3010>,\n",
       " <multiprocessing.pool.ApplyResult at 0x2829496afb0>,\n",
       " <multiprocessing.pool.ApplyResult at 0x2828ecc12a0>,\n",
       " <multiprocessing.pool.ApplyResult at 0x2828ecc3400>,\n",
       " <multiprocessing.pool.ApplyResult at 0x2828ec75720>,\n",
       " <multiprocessing.pool.ApplyResult at 0x2828ec74a60>,\n",
       " <multiprocessing.pool.ApplyResult at 0x2828ec205b0>,\n",
       " <multiprocessing.pool.ApplyResult at 0x2828ecc3790>,\n",
       " <multiprocessing.pool.ApplyResult at 0x2828ebd3760>,\n",
       " <multiprocessing.pool.ApplyResult at 0x2828ecf03d0>,\n",
       " <multiprocessing.pool.ApplyResult at 0x2828ec4b4c0>,\n",
       " <multiprocessing.pool.ApplyResult at 0x2828e84fdf0>,\n",
       " <multiprocessing.pool.ApplyResult at 0x2828ef998a0>]"
      ]
     },
     "execution_count": 10,
     "metadata": {},
     "output_type": "execute_result"
    }
   ],
   "source": [
    "# Upserting all texts\n",
    "pinecone_upsert(vectors,\n",
    "                text_metadata,\n",
    "                index_['name'], \n",
    "                NAMESPACE) "
   ]
  },
  {
   "cell_type": "code",
   "execution_count": null,
   "id": "01J0Y556DAH3HGW5T81ZP7BP5C",
   "metadata": {},
   "outputs": [],
   "source": []
  }
 ],
 "metadata": {
  "kernelspec": {
   "display_name": "Python 3",
   "language": "python",
   "name": "python3"
  },
  "language_info": {
   "codemirror_mode": {
    "name": "ipython",
    "version": 3
   },
   "file_extension": ".py",
   "mimetype": "text/x-python",
   "name": "python",
   "nbconvert_exporter": "python",
   "pygments_lexer": "ipython3",
   "version": "3.10.4"
  }
 },
 "nbformat": 4,
 "nbformat_minor": 2
}
