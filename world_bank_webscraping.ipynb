{
 "cells": [
  {
   "cell_type": "markdown",
   "metadata": {},
   "source": [
    "Within this notebook we scrape the world bank blog post webpages.\n",
    "\n",
    "## NOTE\n",
    "Remember to have your `VPN` active."
   ]
  },
  {
   "cell_type": "code",
   "execution_count": null,
   "metadata": {},
   "outputs": [],
   "source": [
    "import time, random\n",
    "from selenium import webdriver\n",
    "from selenium.webdriver.common.by import By\n",
    "from selenium.common import exceptions as e\n",
    "from selenium.webdriver.support.wait import WebDriverWait\n",
    "from selenium.webdriver.support import expected_conditions as EC\n",
    "from selenium.common.exceptions import InvalidArgumentException, StaleElementReferenceException"
   ]
  },
  {
   "cell_type": "code",
   "execution_count": null,
   "metadata": {},
   "outputs": [],
   "source": [
    "from tqdm import tqdm\n",
    "from IPython.display import Markdown, display"
   ]
  },
  {
   "cell_type": "code",
   "execution_count": null,
   "metadata": {},
   "outputs": [],
   "source": [
    "driver = webdriver.Chrome()"
   ]
  },
  {
   "cell_type": "code",
   "execution_count": null,
   "metadata": {},
   "outputs": [],
   "source": [
    "driver.implicitly_wait(10)"
   ]
  },
  {
   "cell_type": "code",
   "execution_count": null,
   "metadata": {},
   "outputs": [],
   "source": [
    "url = 'https://blogs.worldbank.org/search?keyword=&f%5B0%5D=countries%3A143&f%5B1%5D=language%3Aen'\n",
    "driver.get(url)"
   ]
  },
  {
   "cell_type": "markdown",
   "metadata": {},
   "source": [
    "### Blog Post URLs"
   ]
  },
  {
   "cell_type": "code",
   "execution_count": null,
   "metadata": {},
   "outputs": [],
   "source": [
    "all_urls = []\n",
    "\n",
    "while True:\n",
    "    time.sleep(random.uniform(3, 4))\n",
    "    blog_posts = driver.find_elements(By.XPATH, \"//div[@class='blog_teaser']\")\n",
    "    try:\n",
    "        url = [blog.find_element(By.TAG_NAME, 'h2').find_element(By.TAG_NAME, 'a').get_attribute('href') for blog in blog_posts]\n",
    "    except StaleElementReferenceException:\n",
    "        driver.refresh()\n",
    "        continue\n",
    "    next_page = driver.find_element(By.XPATH, \"//a[@title='Go to next page']\")\n",
    "    next_page.click()\n",
    "    \n",
    "    all_urls.append(url)"
   ]
  },
  {
   "cell_type": "code",
   "execution_count": null,
   "metadata": {},
   "outputs": [],
   "source": [
    "driver.quit()"
   ]
  },
  {
   "cell_type": "markdown",
   "metadata": {},
   "source": [
    "### Postprocessing"
   ]
  },
  {
   "cell_type": "code",
   "execution_count": null,
   "metadata": {},
   "outputs": [],
   "source": [
    "def flatten_list(nested_list):\n",
    "    flattened_list = []\n",
    "    for element in nested_list:\n",
    "        if isinstance(element, list):\n",
    "            flattened_list.extend(flatten_list(element))\n",
    "        else:\n",
    "            flattened_list.append(element)\n",
    "    return flattened_list"
   ]
  },
  {
   "cell_type": "code",
   "execution_count": null,
   "metadata": {},
   "outputs": [],
   "source": [
    "all_urls_flattened = flatten_list(all_urls)\n",
    "print(len(all_urls_flattened))\n",
    "all_urls_flattened[:5]"
   ]
  },
  {
   "cell_type": "markdown",
   "metadata": {},
   "source": [
    "### Save and Read"
   ]
  },
  {
   "cell_type": "code",
   "execution_count": null,
   "metadata": {},
   "outputs": [],
   "source": [
    "with open(\"data/world_bank_document_urls.txt\", \"w\", encoding='utf-8') as f:\n",
    "    for url in all_urls_flattened:\n",
    "        f.write(url)"
   ]
  },
  {
   "cell_type": "markdown",
   "metadata": {},
   "source": [
    "## Articles"
   ]
  },
  {
   "cell_type": "code",
   "execution_count": 26,
   "id": "01J0RX8QBYAQW2BSZ9RGZVP3YD",
   "metadata": {},
   "outputs": [],
   "source": [
    "from async_get import acreate_coroutines\n",
    "\n",
    "from bs4 import BeautifulSoup\n",
    "from IPython.display import display, Markdown, HTML"
   ]
  },
  {
   "cell_type": "markdown",
   "metadata": {},
   "source": [
    "### Loading"
   ]
  },
  {
   "cell_type": "code",
   "execution_count": 2,
   "metadata": {},
   "outputs": [
    {
     "data": {
      "text/plain": [
       "1120"
      ]
     },
     "execution_count": 2,
     "metadata": {},
     "output_type": "execute_result"
    }
   ],
   "source": [
    "with open(\"data/world_bank_document_urls.txt\", encoding='utf-8') as f:\n",
    "    article_urls = f.readlines()\n",
    "    article_urls = [url.replace('\\n', '') for url in article_urls]\n",
    "len(article_urls)"
   ]
  },
  {
   "cell_type": "code",
   "execution_count": 3,
   "id": "01J0RY40DT5VPDR8CQVVFKVX7Y",
   "metadata": {},
   "outputs": [],
   "source": [
    "article_urls = list(set(article_urls))          # remove duplicates"
   ]
  },
  {
   "cell_type": "markdown",
   "metadata": {},
   "source": [
    "### HTTP Get"
   ]
  },
  {
   "cell_type": "code",
   "execution_count": null,
   "id": "01J0RWTA9X3X7AZDGDWP5HKB23",
   "metadata": {},
   "outputs": [],
   "source": [
    "articles = await acreate_coroutines(article_urls)"
   ]
  },
  {
   "cell_type": "markdown",
   "metadata": {},
   "source": [
    "### Extract text and useful metadata"
   ]
  },
  {
   "cell_type": "code",
   "execution_count": 56,
   "metadata": {},
   "outputs": [],
   "source": [
    "article_texts = []\n",
    "for article in tqdm(articles):\n",
    "    soup = BeautifulSoup(article, 'html.parser')\n",
    "    \n",
    "    try:\n",
    "        title = soup.find('h1', class_=\"blog_teaser__title\").text\n",
    "        authors = soup.find('div', class_=\"blog_teaser__link_container\").text\n",
    "        body = soup.find('div', class_=\"cmp-text\").text\n",
    "\n",
    "    except AttributeError:\n",
    "        title = None\n",
    "        authors = None\n",
    "        body = soup.find('body').text\n",
    "\n",
    "\n",
    "    article_text = f\"\"\"\n",
    "        Title:      {title}\n",
    "        \n",
    "        Authors & Date Published : {authors}    \n",
    "\n",
    "        Article Body:   {body}\n",
    "    \"\"\"\n",
    "    article_texts.append(article_text)"
   ]
  },
  {
   "cell_type": "markdown",
   "metadata": {},
   "source": [
    "### Save Article Text"
   ]
  },
  {
   "cell_type": "code",
   "execution_count": 57,
   "metadata": {},
   "outputs": [],
   "source": [
    "with open(\"data/world_bank_articles.txt\", \"w\", encoding='utf-8') as f:\n",
    "    for article_text in article_texts:\n",
    "        f.write(\"\\n\\n\" + article_text)\n",
    "        f.write(\"\\n\\n\" + \"-\" * 150)"
   ]
  },
  {
   "cell_type": "markdown",
   "metadata": {},
   "source": [
    "## Legacy\n",
    "This is deprecated as it is costly both in terms of time and compute resources. The use of asynchronous get requests supercedes it. In fact, it leaves it in the dust."
   ]
  },
  {
   "cell_type": "code",
   "execution_count": null,
   "id": "01J0XAF6KPVMS2WV1DQF06K7WM",
   "metadata": {},
   "outputs": [],
   "source": [
    "# driver = webdriver.Chrome()\n",
    "# def get_article_text():\n",
    "#     driver.switch_to.default_content()\n",
    "#     sections = driver.find_elements(By.XPATH, \"//section[@class='mainsection']\")\n",
    "    \n",
    "#     return sections[0].text\n",
    "# articles = []\n",
    "# skipped = []\n",
    "# for article_no, article_url in enumerate(tqdm(article_urls)):\n",
    "#     try:\n",
    "#         driver.get(article_url)\n",
    "\n",
    "#         article = driver.find_element(By.TAG_NAME, 'body').text\n",
    "#         # article = get_article_text()\n",
    "#         articles.append(article)\n",
    "        \n",
    "#     except Exception as e:\n",
    "#         skipped.append(article_no)\n",
    "#         print(f\"The following occurred on article number {article_no}: {e} \\nLoading next article...\")\n",
    "#         continue\n",
    "\n",
    "#     time.sleep(random.uniform(1.5, 2.5))"
   ]
  }
 ],
 "metadata": {
  "kernelspec": {
   "display_name": "Python 3",
   "language": "python",
   "name": "python3"
  },
  "language_info": {
   "codemirror_mode": {
    "name": "ipython",
    "version": 3
   },
   "file_extension": ".py",
   "mimetype": "text/x-python",
   "name": "python",
   "nbconvert_exporter": "python",
   "pygments_lexer": "ipython3",
   "version": "3.10.4"
  }
 },
 "nbformat": 4,
 "nbformat_minor": 2
}
