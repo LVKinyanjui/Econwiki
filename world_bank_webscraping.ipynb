{
 "cells": [
  {
   "cell_type": "markdown",
   "metadata": {},
   "source": [
    "Within this notebook we scrape the world bank blog post webpages.\n",
    "\n",
    "## NOTE\n",
    "Remember to have your `VPN` active."
   ]
  },
  {
   "cell_type": "code",
   "execution_count": 7,
   "metadata": {},
   "outputs": [],
   "source": [
    "import time, random\n",
    "from selenium import webdriver\n",
    "from selenium.webdriver.common.by import By\n",
    "from selenium.common import exceptions as e\n",
    "from selenium.webdriver.support.wait import WebDriverWait\n",
    "from selenium.webdriver.support import expected_conditions as EC\n",
    "from selenium.common.exceptions import (\n",
    "    InvalidArgumentException, StaleElementReferenceException, ElementClickInterceptedException\n",
    "    )"
   ]
  },
  {
   "cell_type": "code",
   "execution_count": 2,
   "metadata": {},
   "outputs": [],
   "source": [
    "from tqdm import tqdm\n",
    "from IPython.display import Markdown, display"
   ]
  },
  {
   "cell_type": "code",
   "execution_count": 3,
   "metadata": {},
   "outputs": [],
   "source": [
    "driver = webdriver.Chrome()"
   ]
  },
  {
   "cell_type": "code",
   "execution_count": 4,
   "metadata": {},
   "outputs": [],
   "source": [
    "driver.implicitly_wait(10)"
   ]
  },
  {
   "cell_type": "code",
   "execution_count": 5,
   "metadata": {},
   "outputs": [],
   "source": [
    "url = 'https://blogs.worldbank.org/search?keyword=&f%5B0%5D=countries%3A143&f%5B1%5D=language%3Aen'\n",
    "driver.get(url)"
   ]
  },
  {
   "cell_type": "markdown",
   "metadata": {},
   "source": [
    "### Blog Post URLs"
   ]
  },
  {
   "cell_type": "code",
   "execution_count": 6,
   "metadata": {},
   "outputs": [
    {
     "ename": "ElementClickInterceptedException",
     "evalue": "Message: element click intercepted: Element <a _ngcontent-c0=\"\" class=\"page-link\" rel=\"next\" title=\"Go to next page\">...</a> is not clickable at point (953, 584). Other element would receive the click: <div _ngcontent-c0=\"\" class=\"ajax-div ng-tns-c0-0\">...</div>\n  (Session info: chrome=126.0.6478.62)\nStacktrace:\n\tGetHandleVerifier [0x00007FF73AF23E32+31618]\n\t(No symbol) [0x00007FF73AE9B099]\n\t(No symbol) [0x00007FF73AD5888A]\n\t(No symbol) [0x00007FF73ADB022E]\n\t(No symbol) [0x00007FF73ADADBE2]\n\t(No symbol) [0x00007FF73ADAB07B]\n\t(No symbol) [0x00007FF73ADAA246]\n\t(No symbol) [0x00007FF73AD9C281]\n\t(No symbol) [0x00007FF73ADCD10A]\n\t(No symbol) [0x00007FF73AD9BBA6]\n\t(No symbol) [0x00007FF73ADCD320]\n\t(No symbol) [0x00007FF73ADECA80]\n\t(No symbol) [0x00007FF73ADCCEB3]\n\t(No symbol) [0x00007FF73AD9A46B]\n\t(No symbol) [0x00007FF73AD9B001]\n\tGetHandleVerifier [0x00007FF73B229FFD+3202381]\n\tGetHandleVerifier [0x00007FF73B276A1D+3516269]\n\tGetHandleVerifier [0x00007FF73B26C490+3473888]\n\tGetHandleVerifier [0x00007FF73AFD5D36+760454]\n\t(No symbol) [0x00007FF73AEA6B3F]\n\t(No symbol) [0x00007FF73AEA1CD4]\n\t(No symbol) [0x00007FF73AEA1E62]\n\t(No symbol) [0x00007FF73AE9120F]\n\tBaseThreadInitThunk [0x00007FFD7EE87344+20]\n\tRtlUserThreadStart [0x00007FFD7F0DCC91+33]\n",
     "output_type": "error",
     "traceback": [
      "\u001b[1;31m---------------------------------------------------------------------------\u001b[0m",
      "\u001b[1;31mElementClickInterceptedException\u001b[0m          Traceback (most recent call last)",
      "Cell \u001b[1;32mIn[6], line 12\u001b[0m\n\u001b[0;32m     10\u001b[0m     \u001b[38;5;28;01mcontinue\u001b[39;00m\n\u001b[0;32m     11\u001b[0m next_page \u001b[38;5;241m=\u001b[39m driver\u001b[38;5;241m.\u001b[39mfind_element(By\u001b[38;5;241m.\u001b[39mXPATH, \u001b[38;5;124m\"\u001b[39m\u001b[38;5;124m//a[@title=\u001b[39m\u001b[38;5;124m'\u001b[39m\u001b[38;5;124mGo to next page\u001b[39m\u001b[38;5;124m'\u001b[39m\u001b[38;5;124m]\u001b[39m\u001b[38;5;124m\"\u001b[39m)\n\u001b[1;32m---> 12\u001b[0m \u001b[43mnext_page\u001b[49m\u001b[38;5;241;43m.\u001b[39;49m\u001b[43mclick\u001b[49m\u001b[43m(\u001b[49m\u001b[43m)\u001b[49m\n\u001b[0;32m     14\u001b[0m all_urls\u001b[38;5;241m.\u001b[39mappend(url)\n",
      "File \u001b[1;32mc:\\Users\\USER\\AppData\\Local\\Programs\\Python\\Python310\\lib\\site-packages\\selenium\\webdriver\\remote\\webelement.py:94\u001b[0m, in \u001b[0;36mWebElement.click\u001b[1;34m(self)\u001b[0m\n\u001b[0;32m     92\u001b[0m \u001b[38;5;28;01mdef\u001b[39;00m \u001b[38;5;21mclick\u001b[39m(\u001b[38;5;28mself\u001b[39m) \u001b[38;5;241m-\u001b[39m\u001b[38;5;241m>\u001b[39m \u001b[38;5;28;01mNone\u001b[39;00m:\n\u001b[0;32m     93\u001b[0m \u001b[38;5;250m    \u001b[39m\u001b[38;5;124;03m\"\"\"Clicks the element.\"\"\"\u001b[39;00m\n\u001b[1;32m---> 94\u001b[0m     \u001b[38;5;28;43mself\u001b[39;49m\u001b[38;5;241;43m.\u001b[39;49m\u001b[43m_execute\u001b[49m\u001b[43m(\u001b[49m\u001b[43mCommand\u001b[49m\u001b[38;5;241;43m.\u001b[39;49m\u001b[43mCLICK_ELEMENT\u001b[49m\u001b[43m)\u001b[49m\n",
      "File \u001b[1;32mc:\\Users\\USER\\AppData\\Local\\Programs\\Python\\Python310\\lib\\site-packages\\selenium\\webdriver\\remote\\webelement.py:395\u001b[0m, in \u001b[0;36mWebElement._execute\u001b[1;34m(self, command, params)\u001b[0m\n\u001b[0;32m    393\u001b[0m     params \u001b[38;5;241m=\u001b[39m {}\n\u001b[0;32m    394\u001b[0m params[\u001b[38;5;124m\"\u001b[39m\u001b[38;5;124mid\u001b[39m\u001b[38;5;124m\"\u001b[39m] \u001b[38;5;241m=\u001b[39m \u001b[38;5;28mself\u001b[39m\u001b[38;5;241m.\u001b[39m_id\n\u001b[1;32m--> 395\u001b[0m \u001b[38;5;28;01mreturn\u001b[39;00m \u001b[38;5;28;43mself\u001b[39;49m\u001b[38;5;241;43m.\u001b[39;49m\u001b[43m_parent\u001b[49m\u001b[38;5;241;43m.\u001b[39;49m\u001b[43mexecute\u001b[49m\u001b[43m(\u001b[49m\u001b[43mcommand\u001b[49m\u001b[43m,\u001b[49m\u001b[43m \u001b[49m\u001b[43mparams\u001b[49m\u001b[43m)\u001b[49m\n",
      "File \u001b[1;32mc:\\Users\\USER\\AppData\\Local\\Programs\\Python\\Python310\\lib\\site-packages\\selenium\\webdriver\\remote\\webdriver.py:348\u001b[0m, in \u001b[0;36mWebDriver.execute\u001b[1;34m(self, driver_command, params)\u001b[0m\n\u001b[0;32m    346\u001b[0m response \u001b[38;5;241m=\u001b[39m \u001b[38;5;28mself\u001b[39m\u001b[38;5;241m.\u001b[39mcommand_executor\u001b[38;5;241m.\u001b[39mexecute(driver_command, params)\n\u001b[0;32m    347\u001b[0m \u001b[38;5;28;01mif\u001b[39;00m response:\n\u001b[1;32m--> 348\u001b[0m     \u001b[38;5;28;43mself\u001b[39;49m\u001b[38;5;241;43m.\u001b[39;49m\u001b[43merror_handler\u001b[49m\u001b[38;5;241;43m.\u001b[39;49m\u001b[43mcheck_response\u001b[49m\u001b[43m(\u001b[49m\u001b[43mresponse\u001b[49m\u001b[43m)\u001b[49m\n\u001b[0;32m    349\u001b[0m     response[\u001b[38;5;124m\"\u001b[39m\u001b[38;5;124mvalue\u001b[39m\u001b[38;5;124m\"\u001b[39m] \u001b[38;5;241m=\u001b[39m \u001b[38;5;28mself\u001b[39m\u001b[38;5;241m.\u001b[39m_unwrap_value(response\u001b[38;5;241m.\u001b[39mget(\u001b[38;5;124m\"\u001b[39m\u001b[38;5;124mvalue\u001b[39m\u001b[38;5;124m\"\u001b[39m, \u001b[38;5;28;01mNone\u001b[39;00m))\n\u001b[0;32m    350\u001b[0m     \u001b[38;5;28;01mreturn\u001b[39;00m response\n",
      "File \u001b[1;32mc:\\Users\\USER\\AppData\\Local\\Programs\\Python\\Python310\\lib\\site-packages\\selenium\\webdriver\\remote\\errorhandler.py:229\u001b[0m, in \u001b[0;36mErrorHandler.check_response\u001b[1;34m(self, response)\u001b[0m\n\u001b[0;32m    227\u001b[0m         alert_text \u001b[38;5;241m=\u001b[39m value[\u001b[38;5;124m\"\u001b[39m\u001b[38;5;124malert\u001b[39m\u001b[38;5;124m\"\u001b[39m]\u001b[38;5;241m.\u001b[39mget(\u001b[38;5;124m\"\u001b[39m\u001b[38;5;124mtext\u001b[39m\u001b[38;5;124m\"\u001b[39m)\n\u001b[0;32m    228\u001b[0m     \u001b[38;5;28;01mraise\u001b[39;00m exception_class(message, screen, stacktrace, alert_text)  \u001b[38;5;66;03m# type: ignore[call-arg]  # mypy is not smart enough here\u001b[39;00m\n\u001b[1;32m--> 229\u001b[0m \u001b[38;5;28;01mraise\u001b[39;00m exception_class(message, screen, stacktrace)\n",
      "\u001b[1;31mElementClickInterceptedException\u001b[0m: Message: element click intercepted: Element <a _ngcontent-c0=\"\" class=\"page-link\" rel=\"next\" title=\"Go to next page\">...</a> is not clickable at point (953, 584). Other element would receive the click: <div _ngcontent-c0=\"\" class=\"ajax-div ng-tns-c0-0\">...</div>\n  (Session info: chrome=126.0.6478.62)\nStacktrace:\n\tGetHandleVerifier [0x00007FF73AF23E32+31618]\n\t(No symbol) [0x00007FF73AE9B099]\n\t(No symbol) [0x00007FF73AD5888A]\n\t(No symbol) [0x00007FF73ADB022E]\n\t(No symbol) [0x00007FF73ADADBE2]\n\t(No symbol) [0x00007FF73ADAB07B]\n\t(No symbol) [0x00007FF73ADAA246]\n\t(No symbol) [0x00007FF73AD9C281]\n\t(No symbol) [0x00007FF73ADCD10A]\n\t(No symbol) [0x00007FF73AD9BBA6]\n\t(No symbol) [0x00007FF73ADCD320]\n\t(No symbol) [0x00007FF73ADECA80]\n\t(No symbol) [0x00007FF73ADCCEB3]\n\t(No symbol) [0x00007FF73AD9A46B]\n\t(No symbol) [0x00007FF73AD9B001]\n\tGetHandleVerifier [0x00007FF73B229FFD+3202381]\n\tGetHandleVerifier [0x00007FF73B276A1D+3516269]\n\tGetHandleVerifier [0x00007FF73B26C490+3473888]\n\tGetHandleVerifier [0x00007FF73AFD5D36+760454]\n\t(No symbol) [0x00007FF73AEA6B3F]\n\t(No symbol) [0x00007FF73AEA1CD4]\n\t(No symbol) [0x00007FF73AEA1E62]\n\t(No symbol) [0x00007FF73AE9120F]\n\tBaseThreadInitThunk [0x00007FFD7EE87344+20]\n\tRtlUserThreadStart [0x00007FFD7F0DCC91+33]\n"
     ]
    }
   ],
   "source": [
    "all_urls = []\n",
    "\n",
    "while True:\n",
    "    time.sleep(random.uniform(3, 4))\n",
    "    blog_posts = driver.find_elements(By.XPATH, \"//div[@class='blog_teaser']\")\n",
    "    try:\n",
    "        url = [blog.find_element(By.TAG_NAME, 'h2').find_element(By.TAG_NAME, 'a').get_attribute('href') for blog in blog_posts]\n",
    "    except StaleElementReferenceException:\n",
    "        driver.refresh()\n",
    "        continue\n",
    "    \n",
    "    # Click next page with retries\n",
    "    for _ in range(3):\n",
    "        try:\n",
    "            next_page = driver.find_element(By.XPATH, \"//a[@title='Go to next page']\")\n",
    "            next_page.click()\n",
    "            break\n",
    "        except ElementClickInterceptedException:\n",
    "            driver.refresh()\n",
    "\n",
    "    all_urls.append(url)"
   ]
  },
  {
   "cell_type": "code",
   "execution_count": null,
   "metadata": {},
   "outputs": [],
   "source": [
    "driver.quit()"
   ]
  },
  {
   "cell_type": "markdown",
   "metadata": {},
   "source": [
    "### Postprocessing"
   ]
  },
  {
   "cell_type": "code",
   "execution_count": 8,
   "metadata": {},
   "outputs": [],
   "source": [
    "def flatten_list(nested_list):\n",
    "    flattened_list = []\n",
    "    for element in nested_list:\n",
    "        if isinstance(element, list):\n",
    "            flattened_list.extend(flatten_list(element))\n",
    "        else:\n",
    "            flattened_list.append(element)\n",
    "    return flattened_list"
   ]
  },
  {
   "cell_type": "code",
   "execution_count": 18,
   "metadata": {},
   "outputs": [
    {
     "name": "stdout",
     "output_type": "stream",
     "text": [
      "1620\n"
     ]
    },
    {
     "data": {
      "text/plain": [
       "['https://blogs.worldbank.org/en/voices/financing-a-bright-future-for-south-asia',\n",
       " 'https://blogs.worldbank.org/en/nasikiliza/enhancing-inclusive-growth-and-resilience-with-support-uganda-development-focused-refugee-approach-afe-0624',\n",
       " 'https://blogs.worldbank.org/en/latinamerica/refugees-long-road-to-integration-in-latin-america',\n",
       " 'https://blogs.worldbank.org/en/governance/integrity-and-transparency-of-spending-and-security-in-sub-sahar',\n",
       " 'https://blogs.worldbank.org/en/climatechange/the-many-stories-of-adaptation-finance-']"
      ]
     },
     "execution_count": 18,
     "metadata": {},
     "output_type": "execute_result"
    }
   ],
   "source": [
    "all_urls_flattened = flatten_list(all_urls)\n",
    "print(len(all_urls_flattened))\n",
    "all_urls_flattened[:5]"
   ]
  },
  {
   "cell_type": "markdown",
   "metadata": {},
   "source": [
    "### Save and Read"
   ]
  },
  {
   "cell_type": "code",
   "execution_count": 23,
   "metadata": {},
   "outputs": [],
   "source": [
    "with open(\"data/world_bank_document_urls.txt\", \"w\", encoding='utf-8') as f:\n",
    "    for url in all_urls_flattened:\n",
    "        f.write(f\"{url}\\n\")"
   ]
  },
  {
   "cell_type": "markdown",
   "metadata": {},
   "source": [
    "## Articles"
   ]
  },
  {
   "cell_type": "code",
   "execution_count": 24,
   "id": "01J0RX8QBYAQW2BSZ9RGZVP3YD",
   "metadata": {},
   "outputs": [],
   "source": [
    "from custom.async_get import acreate_coroutines\n",
    "\n",
    "from bs4 import BeautifulSoup\n",
    "from IPython.display import display, Markdown, HTML"
   ]
  },
  {
   "cell_type": "markdown",
   "metadata": {},
   "source": [
    "### Loading"
   ]
  },
  {
   "cell_type": "code",
   "execution_count": 25,
   "metadata": {},
   "outputs": [
    {
     "data": {
      "text/plain": [
       "1620"
      ]
     },
     "execution_count": 25,
     "metadata": {},
     "output_type": "execute_result"
    }
   ],
   "source": [
    "with open(\"data/world_bank_document_urls.txt\", encoding='utf-8') as f:\n",
    "    article_urls = f.readlines()\n",
    "    article_urls = [url.replace('\\n', '') for url in article_urls]\n",
    "len(article_urls)"
   ]
  },
  {
   "cell_type": "code",
   "execution_count": 26,
   "id": "01J0RY40DT5VPDR8CQVVFKVX7Y",
   "metadata": {},
   "outputs": [],
   "source": [
    "article_urls = list(set(article_urls))          # remove duplicates"
   ]
  },
  {
   "cell_type": "markdown",
   "metadata": {},
   "source": [
    "### HTTP Get"
   ]
  },
  {
   "cell_type": "code",
   "execution_count": 27,
   "id": "01J0RWTA9X3X7AZDGDWP5HKB23",
   "metadata": {},
   "outputs": [],
   "source": [
    "articles = await acreate_coroutines(article_urls)"
   ]
  },
  {
   "cell_type": "markdown",
   "metadata": {},
   "source": [
    "### Extract text and useful metadata"
   ]
  },
  {
   "cell_type": "code",
   "execution_count": 28,
   "metadata": {},
   "outputs": [
    {
     "name": "stderr",
     "output_type": "stream",
     "text": [
      "100%|██████████| 1619/1619 [01:20<00:00, 20.13it/s]\n"
     ]
    }
   ],
   "source": [
    "article_texts = []\n",
    "for article in tqdm(articles):\n",
    "    soup = BeautifulSoup(article, 'html.parser')\n",
    "    \n",
    "    try:\n",
    "        title = soup.find('h1', class_=\"blog_teaser__title\").text\n",
    "        authors = soup.find('div', class_=\"blog_teaser__link_container\").text\n",
    "        body = soup.find('div', class_=\"cmp-text\").text\n",
    "\n",
    "    except AttributeError:\n",
    "        title = None\n",
    "        authors = None\n",
    "        body = soup.find('body').text\n",
    "\n",
    "\n",
    "    article_text = f\"\"\"\n",
    "        Title:      {title}\n",
    "        \n",
    "        Authors & Date Published : {authors}    \n",
    "\n",
    "        Article Body:   {body}\n",
    "    \"\"\"\n",
    "    article_texts.append(article_text)"
   ]
  },
  {
   "cell_type": "markdown",
   "metadata": {},
   "source": [
    "### Save Article Text"
   ]
  },
  {
   "cell_type": "code",
   "execution_count": 29,
   "metadata": {},
   "outputs": [],
   "source": [
    "with open(\"data/world_bank_articles.txt\", \"w\", encoding='utf-8') as f:\n",
    "    for article_text in article_texts:\n",
    "        f.write(\"\\n\\n\" + article_text)\n",
    "        f.write(\"\\n\\n\" + \"-\" * 150)"
   ]
  },
  {
   "cell_type": "markdown",
   "metadata": {},
   "source": [
    "## Legacy\n",
    "This is deprecated as it is costly both in terms of time and compute resources. The use of asynchronous get requests supercedes it. In fact, it leaves it in the dust."
   ]
  },
  {
   "cell_type": "code",
   "execution_count": 17,
   "id": "01J0XAF6KPVMS2WV1DQF06K7WM",
   "metadata": {},
   "outputs": [],
   "source": [
    "# driver = webdriver.Chrome()\n",
    "# def get_article_text():\n",
    "#     driver.switch_to.default_content()\n",
    "#     sections = driver.find_elements(By.XPATH, \"//section[@class='mainsection']\")\n",
    "    \n",
    "#     return sections[0].text\n",
    "# articles = []\n",
    "# skipped = []\n",
    "# for article_no, article_url in enumerate(tqdm(article_urls)):\n",
    "#     try:\n",
    "#         driver.get(article_url)\n",
    "\n",
    "#         article = driver.find_element(By.TAG_NAME, 'body').text\n",
    "#         # article = get_article_text()\n",
    "#         articles.append(article)\n",
    "        \n",
    "#     except Exception as e:\n",
    "#         skipped.append(article_no)\n",
    "#         print(f\"The following occurred on article number {article_no}: {e} \\nLoading next article...\")\n",
    "#         continue\n",
    "\n",
    "#     time.sleep(random.uniform(1.5, 2.5))"
   ]
  }
 ],
 "metadata": {
  "kernelspec": {
   "display_name": "Python 3",
   "language": "python",
   "name": "python3"
  },
  "language_info": {
   "codemirror_mode": {
    "name": "ipython",
    "version": 3
   },
   "file_extension": ".py",
   "mimetype": "text/x-python",
   "name": "python",
   "nbconvert_exporter": "python",
   "pygments_lexer": "ipython3",
   "version": "3.10.4"
  }
 },
 "nbformat": 4,
 "nbformat_minor": 2
}
