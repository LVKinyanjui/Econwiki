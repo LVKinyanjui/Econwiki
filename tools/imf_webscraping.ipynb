{
 "cells": [
  {
   "cell_type": "markdown",
   "metadata": {},
   "source": [
    "This notebook will be dedicated to collecting documents of economic importance regarding the IMF for analysis.\n",
    "\n",
    "### Notes\n",
    "Depending on your location you may need a VPN connection to access the IMF website"
   ]
  },
  {
   "cell_type": "code",
   "execution_count": null,
   "metadata": {},
   "outputs": [],
   "source": [
    "import time\n",
    "from tqdm import tqdm"
   ]
  },
  {
   "cell_type": "code",
   "execution_count": null,
   "metadata": {},
   "outputs": [],
   "source": [
    "from selenium import webdriver\n",
    "from selenium.common import exceptions\n",
    "from selenium.webdriver.common.by import By\n",
    "from selenium.webdriver.common.keys import Keys"
   ]
  },
  {
   "cell_type": "code",
   "execution_count": null,
   "metadata": {},
   "outputs": [],
   "source": [
    "driver = webdriver.Chrome()"
   ]
  },
  {
   "cell_type": "code",
   "execution_count": null,
   "metadata": {},
   "outputs": [],
   "source": [
    "url = 'https://www.imf.org/en/Countries/KEN'\n",
    "driver.get(url)"
   ]
  },
  {
   "cell_type": "markdown",
   "metadata": {},
   "source": [
    "## Links"
   ]
  },
  {
   "cell_type": "markdown",
   "metadata": {},
   "source": [
    "### Get Document URLs"
   ]
  },
  {
   "cell_type": "code",
   "execution_count": null,
   "metadata": {},
   "outputs": [
    {
     "ename": "",
     "evalue": "",
     "output_type": "error",
     "traceback": [
      "\u001b[1;31mThe Kernel crashed while executing code in the current cell or a previous cell. \n",
      "\u001b[1;31mPlease review the code in the cell(s) to identify a possible cause of the failure. \n",
      "\u001b[1;31mClick <a href='https://aka.ms/vscodeJupyterKernelCrash'>here</a> for more info. \n",
      "\u001b[1;31mView Jupyter <a href='command:jupyter.viewOutput'>log</a> for further details."
     ]
    }
   ],
   "source": [
    "results = driver.find_elements(By.CLASS_NAME, \"result-item\")\n",
    "\n",
    "doc_urls = [element.find_element(By.TAG_NAME, \"a\").get_attribute('href') for element in results]"
   ]
  },
  {
   "cell_type": "markdown",
   "metadata": {},
   "source": [
    "### Multipage Scraping"
   ]
  },
  {
   "cell_type": "markdown",
   "metadata": {},
   "source": [
    "#### Helper functions"
   ]
  },
  {
   "cell_type": "code",
   "execution_count": null,
   "metadata": {},
   "outputs": [],
   "source": [
    "def get_doc_urls():\n",
    "    results = driver.find_elements(By.CLASS_NAME, \"result-item\")\n",
    "    doc_urls = [element.find_element(By.TAG_NAME, \"a\").get_attribute('href') for element in results]\n",
    "    return doc_urls"
   ]
  },
  {
   "cell_type": "markdown",
   "metadata": {},
   "source": [
    "#### Navigator Arrows"
   ]
  },
  {
   "cell_type": "code",
   "execution_count": null,
   "metadata": {},
   "outputs": [],
   "source": [
    "next_page = driver.find_elements(By.XPATH, \"//a[@class='pagination-arrow next']\")\n",
    "[page.get_attribute('href') for page in next_page]\n",
    "# next_page[1].click()"
   ]
  },
  {
   "cell_type": "code",
   "execution_count": null,
   "metadata": {},
   "outputs": [],
   "source": [
    "previous_page = driver.find_elements(By.XPATH, \"//a[@class='pagination-arrow previous']\")\n",
    "[page.get_attribute('href') for page in previous_page]\n",
    "# previous_page[0].click()"
   ]
  },
  {
   "cell_type": "markdown",
   "metadata": {},
   "source": [
    "#### Navigation"
   ]
  },
  {
   "cell_type": "code",
   "execution_count": null,
   "metadata": {},
   "outputs": [],
   "source": [
    "all_doc_urls = []\n",
    "\n",
    "try:\n",
    "    while len(next_page) != 0:\n",
    "        res = get_doc_urls()\n",
    "        all_doc_urls.append(res)\n",
    "        \n",
    "        next_page[0].click()\n",
    "        time.sleep(2.5)\n",
    "except exceptions.StaleElementReferenceException:\n",
    "    print(f\"Advanced upto page: {len(all_doc_urls)}\")"
   ]
  },
  {
   "cell_type": "code",
   "execution_count": null,
   "id": "01HYB0WC84SPHDXHZ9BX1XQDA6",
   "metadata": {},
   "outputs": [],
   "source": [
    "driver.quit()"
   ]
  },
  {
   "cell_type": "markdown",
   "metadata": {},
   "source": [
    "#### Postprocessing"
   ]
  },
  {
   "cell_type": "code",
   "execution_count": null,
   "metadata": {},
   "outputs": [],
   "source": [
    "def flatten_list(nested_list):\n",
    "    flattened_list = []\n",
    "    for element in nested_list:\n",
    "        if isinstance(element, list):\n",
    "            flattened_list.extend(flatten_list(element))\n",
    "        else:\n",
    "            flattened_list.append(element)\n",
    "    return flattened_list"
   ]
  },
  {
   "cell_type": "code",
   "execution_count": null,
   "metadata": {},
   "outputs": [],
   "source": [
    "flat_doc_urls = flatten_list(all_doc_urls)"
   ]
  },
  {
   "cell_type": "markdown",
   "metadata": {},
   "source": [
    "#### Save"
   ]
  },
  {
   "cell_type": "code",
   "execution_count": null,
   "metadata": {},
   "outputs": [],
   "source": [
    "with open(\"../data/imf_document_links.txt\", \"w\", encoding='utf-8') as f:\n",
    "    for url in flat_doc_urls:\n",
    "        f.write(url + '\\n')"
   ]
  },
  {
   "cell_type": "markdown",
   "metadata": {},
   "source": [
    "## Articles\n",
    "Having obtained a list of all the links to the articles, we now visit each individually and scrape their contents.\n",
    "\n",
    "### Note\n",
    "We need to handle the `page not found` error, note which are missing and proceed with the next."
   ]
  },
  {
   "cell_type": "code",
   "execution_count": null,
   "metadata": {},
   "outputs": [],
   "source": [
    "driver = webdriver.Chrome()"
   ]
  },
  {
   "cell_type": "code",
   "execution_count": null,
   "metadata": {},
   "outputs": [],
   "source": [
    "articles = []"
   ]
  },
  {
   "cell_type": "code",
   "execution_count": null,
   "id": "01HYB1K7GHFS7JRMXQRP71YGQF",
   "metadata": {},
   "outputs": [],
   "source": [
    "\n",
    "for page_no, url in enumerate(flat_doc_urls):\n",
    "    driver.get(url)\n",
    "\n",
    "    try:\n",
    "        article = driver.find_element(By.TAG_NAME, \"article\").text\n",
    "\n",
    "    except AttributeError:\n",
    "        # Means this element not found. Try to scrape the whole page instead\n",
    "        article = driver.find_element(By.TAG_NAME, 'body').text\n",
    "\n",
    "    except exceptions.NoSuchElementException:\n",
    "        print(f\"Article element not found on page {page_no}\")\n",
    "        article = ''    # Partial fix for page not found.\n",
    "\n",
    "    except Exception as e:\n",
    "        print(f\"The following error occured: {e} \\n\\n\")\n",
    "        print(f\"Advanced up to page number: {page_no}\")\n",
    "\n",
    "    articles.append(article)\n",
    "\n",
    "    time.sleep(1.5)\n"
   ]
  },
  {
   "cell_type": "code",
   "execution_count": null,
   "id": "01HYB1JJY5WY8EYG9JAG05ZBRF",
   "metadata": {},
   "outputs": [],
   "source": [
    "len(articles)"
   ]
  },
  {
   "cell_type": "code",
   "execution_count": null,
   "id": "01HYB4PZGVZNMVN6964S2K4T4M",
   "metadata": {},
   "outputs": [],
   "source": [
    "driver.quit()"
   ]
  },
  {
   "cell_type": "markdown",
   "metadata": {},
   "source": [
    "### Save"
   ]
  },
  {
   "cell_type": "code",
   "execution_count": null,
   "metadata": {},
   "outputs": [],
   "source": []
  },
  {
   "cell_type": "code",
   "execution_count": null,
   "metadata": {},
   "outputs": [],
   "source": [
    "with open(\"../data/imf_article_txt\", \"w\", encoding='utf-8') as f:\n",
    "    for article in articles:\n",
    "        f.write(\"\\n\\n\" + article)\n",
    "        f.write(\"\\n\\n\" + \"-\" * 150)"
   ]
  },
  {
   "cell_type": "code",
   "execution_count": null,
   "metadata": {},
   "outputs": [],
   "source": []
  }
 ],
 "metadata": {
  "kernelspec": {
   "display_name": "Python 3",
   "language": "python",
   "name": "python3"
  },
  "language_info": {
   "codemirror_mode": {
    "name": "ipython",
    "version": 3
   },
   "file_extension": ".py",
   "mimetype": "text/x-python",
   "name": "python",
   "nbconvert_exporter": "python",
   "pygments_lexer": "ipython3",
   "version": "3.10.4"
  }
 },
 "nbformat": 4,
 "nbformat_minor": 2
}
