{
 "cells": [
  {
   "cell_type": "markdown",
   "metadata": {},
   "source": [
    "## Gradio\n",
    "This is a tool that allows us to create nice user interfaces for our LLMs. It simplifies the task of deploying them by removing the need to understand web development in depth."
   ]
  },
  {
   "cell_type": "code",
   "execution_count": 1,
   "metadata": {},
   "outputs": [],
   "source": [
    "import os\n",
    "import gradio as gr\n",
    "import google.generativeai as palm\n",
    "# Custom modules\n",
    "from embeddings_palm import get_palm_embeddings"
   ]
  },
  {
   "cell_type": "code",
   "execution_count": 2,
   "metadata": {},
   "outputs": [],
   "source": [
    "api_key = os.getenv(\"PALM_API_KEY\")\n",
    "palm.configure(api_key=api_key)"
   ]
  },
  {
   "cell_type": "markdown",
   "metadata": {},
   "source": [
    "## Pinecone"
   ]
  },
  {
   "cell_type": "code",
   "execution_count": 3,
   "metadata": {},
   "outputs": [],
   "source": [
    "import pinecone"
   ]
  },
  {
   "cell_type": "markdown",
   "metadata": {},
   "source": [
    "### Credentials"
   ]
  },
  {
   "cell_type": "code",
   "execution_count": 8,
   "metadata": {},
   "outputs": [
    {
     "data": {
      "text/plain": [
       "'6ccca79b-2c14-4276-ab90-7d84b68f9250'"
      ]
     },
     "execution_count": 8,
     "metadata": {},
     "output_type": "execute_result"
    }
   ],
   "source": [
    "pinecone_api_key = os.getenv('PINECONE_API_KEY_03')"
   ]
  },
  {
   "cell_type": "markdown",
   "metadata": {},
   "source": [
    "### Connecting to Pinecone Index"
   ]
  },
  {
   "cell_type": "code",
   "execution_count": 9,
   "metadata": {},
   "outputs": [],
   "source": [
    "\n",
    "index_name = 'econwiki'\n",
    "\n",
    "# initialize connection to pinecone\n",
    "pinecone.init(\n",
    "    api_key= pinecone_api_key,\n",
    "    environment=\"gcp-starter\"  # next to API key in console\n",
    ")"
   ]
  },
  {
   "cell_type": "code",
   "execution_count": 10,
   "metadata": {},
   "outputs": [
    {
     "data": {
      "text/plain": [
       "{'dimension': 768,\n",
       " 'index_fullness': 0.0192,\n",
       " 'namespaces': {'': {'vector_count': 1920}},\n",
       " 'total_vector_count': 1920}"
      ]
     },
     "execution_count": 10,
     "metadata": {},
     "output_type": "execute_result"
    }
   ],
   "source": [
    "# connect to index\n",
    "index = pinecone.GRPCIndex(index_name)\n",
    "# view index stats\n",
    "index.describe_index_stats()"
   ]
  },
  {
   "cell_type": "code",
   "execution_count": 11,
   "metadata": {},
   "outputs": [],
   "source": [
    "def make_query(query):\n",
    "    # Get query vector embeddings\n",
    "    xq = get_palm_embeddings(query)\n",
    "    res = index.query(xq, top_k=5, include_metadata=True)\n",
    "\n",
    "    # get list of retrieved text\n",
    "    contexts = [item['metadata']['text'] for item in res['matches']]\n",
    "\n",
    "    # Concatenate retrieved texts from vector database with the query\n",
    "    ## May exceed context length if too many\n",
    "    augmented_query = \"\\n\\n---\\n\\n\".join(contexts)+\"\\n\\n-----\\n\\n\"+query \n",
    "    \n",
    "    # system message to 'prime' the model\n",
    "    primer = f\"\"\"\n",
    "        You are an econ major seeking to understand the world around you through economics \\\n",
    "        You will be provided with texts on economic phenomena on which you will make comments \\\n",
    "        These texts come from various sources such as articles, textbooks and so on \\\n",
    "        Your role is to condense the contents therein into language that is accessible to an intermediate student \\\n",
    "        You will not oversimplify key concepts but you will also not use inacessible technical language \\\n",
    "        After the text there will be a question you will be required to answer \\\n",
    "        If you do not find the answer in the text provided you will clearly state that you do not know \\\n",
    "        That is, you will not make answers up without validation from text \\\n",
    "        Provide direct quotations from key figures in the text to support your answers \\\n",
    "    \"\"\"\n",
    "    res = palm.chat(context=primer, messages=augmented_query, temperature=0.0)\n",
    "    return res.last"
   ]
  },
  {
   "cell_type": "code",
   "execution_count": 12,
   "metadata": {},
   "outputs": [
    {
     "name": "stdout",
     "output_type": "stream",
     "text": [
      "Running on local URL:  http://127.0.0.1:7860\n",
      "Running on public URL: https://93e21c44ade01b7243.gradio.live\n",
      "\n",
      "This share link expires in 72 hours. For free permanent hosting and GPU upgrades, run `gradio deploy` from Terminal to deploy to Spaces (https://huggingface.co/spaces)\n"
     ]
    },
    {
     "data": {
      "text/html": [
       "<div><iframe src=\"https://93e21c44ade01b7243.gradio.live\" width=\"100%\" height=\"500\" allow=\"autoplay; camera; microphone; clipboard-read; clipboard-write;\" frameborder=\"0\" allowfullscreen></iframe></div>"
      ],
      "text/plain": [
       "<IPython.core.display.HTML object>"
      ]
     },
     "metadata": {},
     "output_type": "display_data"
    },
    {
     "data": {
      "text/plain": []
     },
     "execution_count": 12,
     "metadata": {},
     "output_type": "execute_result"
    }
   ],
   "source": [
    "demo = gr.Interface(fn=make_query, \n",
    "                    inputs=[gr.Textbox(label=\"Query to make\", lines=6)],\n",
    "                    outputs=[gr.Markdown(label=\"Result\")],\n",
    "                    title=\"EconWiki\",\n",
    "                    description=\"A central repository for macro economic data. Ask Away!\"\n",
    "                   )\n",
    "demo.launch(share=True)"
   ]
  },
  {
   "cell_type": "code",
   "execution_count": null,
   "metadata": {},
   "outputs": [
    {
     "name": "stdout",
     "output_type": "stream",
     "text": [
      "Closing server running on port: 7860\n"
     ]
    }
   ],
   "source": [
    "gr.close_all()"
   ]
  },
  {
   "cell_type": "code",
   "execution_count": null,
   "metadata": {},
   "outputs": [],
   "source": []
  }
 ],
 "metadata": {
  "kernelspec": {
   "display_name": "Python 3",
   "language": "python",
   "name": "python3"
  },
  "language_info": {
   "codemirror_mode": {
    "name": "ipython",
    "version": 3
   },
   "file_extension": ".py",
   "mimetype": "text/x-python",
   "name": "python",
   "nbconvert_exporter": "python",
   "pygments_lexer": "ipython3",
   "version": "3.10.4"
  }
 },
 "nbformat": 4,
 "nbformat_minor": 2
}
