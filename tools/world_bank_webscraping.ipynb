{
 "cells": [
  {
   "cell_type": "markdown",
   "metadata": {},
   "source": [
    "Within this notebook we scrape the world bank blog post webpages.\n",
    "\n",
    "## NOTE\n",
    "Remember to have your `VPN` active."
   ]
  },
  {
   "cell_type": "code",
   "execution_count": 1,
   "metadata": {},
   "outputs": [],
   "source": [
    "import time \n",
    "from selenium import webdriver\n",
    "from selenium.webdriver.common.by import By\n",
    "from selenium.common import exceptions as e\n",
    "from selenium.webdriver.support.wait import WebDriverWait\n",
    "from selenium.webdriver.support import expected_conditions as EC"
   ]
  },
  {
   "cell_type": "code",
   "execution_count": 44,
   "metadata": {},
   "outputs": [],
   "source": [
    "from tqdm import tqdm\n",
    "from IPython.display import Markdown, display"
   ]
  },
  {
   "cell_type": "code",
   "execution_count": 2,
   "metadata": {},
   "outputs": [],
   "source": [
    "driver = webdriver.Chrome()"
   ]
  },
  {
   "cell_type": "code",
   "execution_count": 3,
   "metadata": {},
   "outputs": [],
   "source": [
    "driver.implicitly_wait(10)"
   ]
  },
  {
   "cell_type": "code",
   "execution_count": 30,
   "metadata": {},
   "outputs": [],
   "source": [
    "url = 'https://blogs.worldbank.org/search?keyword=&f%5B0%5D=countries%3A143&f%5B1%5D=language%3Aen'\n",
    "driver.get(url)"
   ]
  },
  {
   "cell_type": "markdown",
   "metadata": {},
   "source": [
    "### Blog Post URLs"
   ]
  },
  {
   "cell_type": "code",
   "execution_count": 17,
   "metadata": {},
   "outputs": [],
   "source": [
    "def get_urls():\n",
    "    url_webelements = [webelement.find_element(By.TAG_NAME, 'a') \n",
    "                    for webelement in driver.find_elements(By.XPATH, \"//h3[@class='field-content']\")]\n",
    "    urls = [webelement.get_attribute('href') for webelement in url_webelements]\n",
    "    return urls"
   ]
  },
  {
   "cell_type": "markdown",
   "metadata": {},
   "source": [
    "### Paginator\n",
    "This function will *flip the page*, so to speak; thus encapsulating the slightly complex logic."
   ]
  },
  {
   "cell_type": "code",
   "execution_count": 53,
   "metadata": {},
   "outputs": [],
   "source": [
    "def paginate() -> list : \n",
    "    # Element found each iteration to avoid StaleElement exceptions\n",
    "    next_page = driver.find_elements(By.XPATH, \"//a[@title='Go to next page']\")\n",
    "\n",
    "    next_page_url = next_page[0].get_attribute('href')\n",
    "    driver.get(next_page_url)\n",
    "\n",
    "    return next_page"
   ]
  },
  {
   "cell_type": "markdown",
   "metadata": {},
   "source": [
    "### Navigation"
   ]
  },
  {
   "cell_type": "code",
   "execution_count": null,
   "metadata": {},
   "outputs": [],
   "source": [
    "all_urls = []\n",
    "\n",
    "next_page = driver.find_elements(By.XPATH, \"//a[@title='Go to next page']\")\n",
    "\n",
    "try:\n",
    "    # Redundant condition, meant to show that we have reached the last page. \n",
    "    # Replace with while True\n",
    "    while len(next_page) != 0:\n",
    "        res = get_urls()\n",
    "        all_urls.append(res)\n",
    "\n",
    "        next_page = paginate()\n",
    "        time.sleep(2.5)\n",
    "except IndexError:\n",
    "    print(\"Succesfully reached the last page\")"
   ]
  },
  {
   "cell_type": "code",
   "execution_count": 32,
   "metadata": {},
   "outputs": [
    {
     "data": {
      "text/plain": [
       "46"
      ]
     },
     "execution_count": 32,
     "metadata": {},
     "output_type": "execute_result"
    }
   ],
   "source": [
    "len(all_urls)"
   ]
  },
  {
   "cell_type": "markdown",
   "metadata": {},
   "source": [
    "### Postprocessing"
   ]
  },
  {
   "cell_type": "code",
   "execution_count": 33,
   "metadata": {},
   "outputs": [],
   "source": [
    "def flatten_list(nested_list):\n",
    "    flattened_list = []\n",
    "    for element in nested_list:\n",
    "        if isinstance(element, list):\n",
    "            flattened_list.extend(flatten_list(element))\n",
    "        else:\n",
    "            flattened_list.append(element)\n",
    "    return flattened_list"
   ]
  },
  {
   "cell_type": "code",
   "execution_count": 41,
   "metadata": {},
   "outputs": [
    {
     "name": "stdout",
     "output_type": "stream",
     "text": [
      "452\n"
     ]
    },
    {
     "data": {
      "text/plain": [
       "['https://blogs.worldbank.org/education/tale-two-early-grade-reading-programs',\n",
       " 'https://blogs.worldbank.org/dev4peace/many-refugee-shocks-can-be-predicted-and-we-can-prepare-them',\n",
       " 'https://blogs.worldbank.org/health/training-more-nurses-bring-quality-health-care-hard-reach-communities-kenya',\n",
       " 'https://blogs.worldbank.org/dev4peace/beyond-humanitarian-assistance-enabling-refugees-economic-empowerment-through',\n",
       " 'https://blogs.worldbank.org/youth-transforming-africa/nurturing-minds-fueling-futures-kenya-conversation-wawira-njiru']"
      ]
     },
     "execution_count": 41,
     "metadata": {},
     "output_type": "execute_result"
    }
   ],
   "source": [
    "all_urls_flattened = flatten_list(all_urls)\n",
    "print(len(all_urls_flattened))\n",
    "all_urls_flattened[:5]"
   ]
  },
  {
   "cell_type": "code",
   "execution_count": 45,
   "metadata": {},
   "outputs": [],
   "source": [
    "article_urls = all_urls_flattened"
   ]
  },
  {
   "cell_type": "markdown",
   "metadata": {},
   "source": [
    "### Save and Read"
   ]
  },
  {
   "cell_type": "code",
   "execution_count": 35,
   "metadata": {},
   "outputs": [],
   "source": [
    "with open(\"data/world_bank_document_urls.txt\", \"w\", encoding='utf-8') as f:\n",
    "    for url in all_urls_flattened:\n",
    "        f.writelines(url + '\\n')"
   ]
  },
  {
   "cell_type": "markdown",
   "metadata": {},
   "source": [
    "## Articles"
   ]
  },
  {
   "cell_type": "markdown",
   "metadata": {},
   "source": [
    "### Loading"
   ]
  },
  {
   "cell_type": "code",
   "execution_count": 49,
   "metadata": {},
   "outputs": [
    {
     "data": {
      "text/plain": [
       "452"
      ]
     },
     "execution_count": 49,
     "metadata": {},
     "output_type": "execute_result"
    }
   ],
   "source": [
    "with open(\"data/world_bank_document_urls.txt\", encoding='utf-8') as f:\n",
    "    article_urls = f.readlines()\n",
    "len(article_urls)"
   ]
  },
  {
   "cell_type": "code",
   "execution_count": 50,
   "metadata": {},
   "outputs": [],
   "source": [
    "driver = webdriver. Chrome()"
   ]
  },
  {
   "cell_type": "markdown",
   "metadata": {},
   "source": [
    "### Helper Functions"
   ]
  },
  {
   "cell_type": "code",
   "execution_count": 43,
   "metadata": {},
   "outputs": [],
   "source": [
    "def get_article_text():\n",
    "    driver.switch_to.default_content()\n",
    "    sections = driver.find_elements(By.XPATH, \"//section[@class='mainsection']\")\n",
    "    \n",
    "    return sections[0].text"
   ]
  },
  {
   "cell_type": "markdown",
   "metadata": {},
   "source": [
    "### Webscraping Mechanism"
   ]
  },
  {
   "cell_type": "code",
   "execution_count": 51,
   "metadata": {},
   "outputs": [
    {
     "name": "stderr",
     "output_type": "stream",
     "text": [
      "  0%|          | 1/452 [00:06<49:14,  6.55s/it]"
     ]
    },
    {
     "name": "stdout",
     "output_type": "stream",
     "text": [
      "The following occurred on article number 0: list index out of range \n",
      "Loading next article...\n"
     ]
    },
    {
     "name": "stderr",
     "output_type": "stream",
     "text": [
      "100%|██████████| 452/452 [41:48<00:00,  5.55s/it]\n"
     ]
    }
   ],
   "source": [
    "articles = []\n",
    "skipped = []\n",
    "for article_no, article_url in enumerate(tqdm(article_urls)):\n",
    "    try:\n",
    "        driver.get(article_url)\n",
    "\n",
    "        article = get_article_text()\n",
    "        articles.append(article)\n",
    "    except Exception as e:\n",
    "        skipped.append(article_no)\n",
    "        print(f\"The following occurred on article number {article_no}: {e} \\nLoading next article...\")\n",
    "        continue\n",
    "\n",
    "    time.sleep(1)"
   ]
  },
  {
   "cell_type": "markdown",
   "metadata": {},
   "source": [
    "### Save"
   ]
  },
  {
   "cell_type": "code",
   "execution_count": 54,
   "metadata": {},
   "outputs": [],
   "source": [
    "with open(\"data/world_bank_articles.txt\", \"w\", encoding='utf-8') as f:\n",
    "    for article in articles:\n",
    "        f.write(\"\\n\\n\" + article)\n",
    "        f.write(\"\\n\\n\" + \"-\" * 150)"
   ]
  },
  {
   "cell_type": "code",
   "execution_count": null,
   "metadata": {},
   "outputs": [],
   "source": []
  }
 ],
 "metadata": {
  "kernelspec": {
   "display_name": "Python 3",
   "language": "python",
   "name": "python3"
  },
  "language_info": {
   "codemirror_mode": {
    "name": "ipython",
    "version": 3
   },
   "file_extension": ".py",
   "mimetype": "text/x-python",
   "name": "python",
   "nbconvert_exporter": "python",
   "pygments_lexer": "ipython3",
   "version": "3.10.4"
  }
 },
 "nbformat": 4,
 "nbformat_minor": 2
}
